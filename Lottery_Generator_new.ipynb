{
 "cells": [
  {
   "cell_type": "code",
   "execution_count": 1,
   "id": "b183d873",
   "metadata": {},
   "outputs": [
    {
     "name": "stdout",
     "output_type": "stream",
     "text": [
      "Sending this message:\n",
      " Your lottery numbers:\n",
      "Main: [13, 17, 25, 33, 46]\n",
      "Bonus: [3, 10]\n",
      "Email sent successfully.\n"
     ]
    }
   ],
   "source": [
    "import random\n",
    "import smtplib\n",
    "from email.mime.text import MIMEText\n",
    "\n",
    "# Generate numbers\n",
    "main = sorted(random.sample(range(1, 51), 5))\n",
    "bonus = sorted(random.sample(range(1, 13), 2))\n",
    "message_body = f\"Your lottery numbers:\\nMain: {main}\\nBonus: {bonus}\"\n",
    "\n",
    "# Email config\n",
    "sender = \"sztuczka24@wp.pl\"\n",
    "receiver = \"sztuczka24@wp.pl\"\n",
    "password = \"mag\"  # Replace with your actual WP mail password\n",
    "\n",
    "# Create email\n",
    "try:\n",
    "    msg = MIMEText(message_body)\n",
    "    msg['Subject'] = 'Your Lottery Numbers'\n",
    "    msg['From'] = sender\n",
    "    msg['To'] = receiver\n",
    "\n",
    "    print(\"Sending this message:\\n\", message_body)\n",
    "\n",
    "    # Send via SMTP\n",
    "    with smtplib.SMTP_SSL(\"smtp.wp.pl\", 465) as server:\n",
    "        server.login(sender, password)\n",
    "        server.send_message(msg)\n",
    "        print(\"Email sent successfully.\")\n",
    "\n",
    "except Exception as e:\n",
    "    print(\"Failed to send email:\", str(e))+6987\n",
    "\n",
    "\n",
    "\n",
    "\n",
    "                        "
   ]
  }
 ],
 "metadata": {
  "kernelspec": {
   "display_name": "Python 3",
   "language": "python",
   "name": "python3"
  },
  "language_info": {
   "codemirror_mode": {
    "name": "ipython",
    "version": 3
   },
   "file_extension": ".py",
   "mimetype": "text/x-python",
   "name": "python",
   "nbconvert_exporter": "python",
   "pygments_lexer": "ipython3",
   "version": "3.9.6"
  }
 },
 "nbformat": 4,
 "nbformat_minor": 5
}
